{
  "nbformat": 4,
  "nbformat_minor": 0,
  "metadata": {
    "colab": {
      "name": "basic.ipynb",
      "version": "0.3.2",
      "provenance": [],
      "collapsed_sections": [],
      "toc_visible": true,
      "include_colab_link": true
    },
    "kernelspec": {
      "name": "python3",
      "display_name": "Python 3"
    },
    "accelerator": "GPU"
  },
  "cells": [
    {
      "cell_type": "markdown",
      "metadata": {
        "id": "view-in-github",
        "colab_type": "text"
      },
      "source": [
        "[![Open In Colab](https://colab.research.google.com/assets/colab-badge.svg)](https://colab.research.google.com/github/nxhong93/deep-learning/blob/master/basic.ipynb)"
      ]
    },
    {
      "metadata": {
        "id": "ldrF1LYSKqdw",
        "colab_type": "code",
        "colab": {
          "base_uri": "https://localhost:8080/",
          "height": 36
        },
        "outputId": "6f8a6ac1-692a-427c-f3d5-1e9571f29500"
      },
      "cell_type": "code",
      "source": [
        "from google.colab import drive\n",
        "drive.mount('/content/drive')"
      ],
      "execution_count": 8,
      "outputs": [
        {
          "output_type": "stream",
          "text": [
            "Drive already mounted at /content/drive; to attempt to forcibly remount, call drive.mount(\"/content/drive\", force_remount=True).\n"
          ],
          "name": "stdout"
        }
      ]
    },
    {
      "metadata": {
        "id": "uDh4UqDwLvqS",
        "colab_type": "code",
        "colab": {
          "base_uri": "https://localhost:8080/",
          "height": 55
        },
        "outputId": "3678a111-dc52-4bab-b54e-99f01f386aa1"
      },
      "cell_type": "code",
      "source": [
        "!pip install -q scikit-plot\n",
        "!pip install -q gensim\n",
        "import os\n",
        "import numpy as np\n",
        "import pandas as pd\n",
        "import pickle\n",
        "from gensim import models\n",
        "from gensim.models import Word2Vec\n",
        "import matplotlib.pyplot as plt\n",
        "from tqdm import tqdm\n",
        "from sklearn import preprocessing\n",
        "from sklearn.feature_extraction.text import TfidfVectorizer, CountVectorizer \n",
        "from sklearn.model_selection import cross_val_predict, StratifiedKFold\n",
        "from sklearn.linear_model import LogisticRegression\n",
        "from sklearn.metrics import log_loss, accuracy_score\n",
        "from sklearn.naive_bayes import BernoulliNB, GaussianNB, MultinomialNB\n",
        "from sklearn.decomposition import TruncatedSVD\n",
        "from sklearn.svm import SVC\n",
        "from sklearn.model_selection import train_test_split\n",
        "from nltk.corpus import stopwords\n",
        "import nltk\n",
        "nltk.download('punkt')\n",
        "from nltk.tokenize import word_tokenize, sent_tokenize\n",
        "import xgboost as xgb\n",
        "import scikitplot.plotters as skplt\n",
        "\n",
        "from keras.preprocessing.text import Tokenizer\n",
        "from keras_preprocessing.sequence import pad_sequences\n",
        "from keras.callbacks import ModelCheckpoint\n",
        "from keras.models import Sequential, load_model\n",
        "from keras.layers import Embedding, Dropout, LSTM, Activation, Dense"
      ],
      "execution_count": 9,
      "outputs": [
        {
          "output_type": "stream",
          "text": [
            "[nltk_data] Downloading package punkt to /root/nltk_data...\n",
            "[nltk_data]   Package punkt is already up-to-date!\n"
          ],
          "name": "stdout"
        }
      ]
    },
    {
      "metadata": {
        "id": "4UTAruOlMgdB",
        "colab_type": "code",
        "colab": {
          "base_uri": "https://localhost:8080/",
          "height": 716
        },
        "outputId": "ded8bbde-4ffe-4f3f-ed93-dbe1c8195e77"
      },
      "cell_type": "code",
      "source": [
        "train_text = pd.read_csv('drive/My Drive/app/t/nlp/basic/training_text', sep = '\\|\\|', skiprows=1, header = None, names=['ID', 'Text'])\n",
        "train_variants = pd.read_csv('drive/My Drive/app/t/nlp/basic/training_variants')\n",
        "test_text = pd.read_csv('drive/My Drive/app/t/nlp/basic/test_text', sep = '\\|\\|', skiprows=1, header = None, names=['ID', 'Text'])\n",
        "test_variants = pd.read_csv('drive/My Drive/app/t/nlp/basic/test_variants')\n",
        "train = pd.merge(train_variants, train_text, how = 'left', on = 'ID').dropna()\n",
        "train, _ = train_test_split(train, test_size=0.7, random_state=8)\n",
        "test = pd.merge(test_variants, test_text, how = 'left', on = 'ID').dropna()\n",
        "print(train.sample(4))\n",
        "print(test.sample(4))\n",
        "print(train['Text'].values)"
      ],
      "execution_count": 10,
      "outputs": [
        {
          "output_type": "stream",
          "text": [
            "/usr/local/lib/python3.6/dist-packages/ipykernel_launcher.py:1: ParserWarning: Falling back to the 'python' engine because the 'c' engine does not support regex separators (separators > 1 char and different from '\\s+' are interpreted as regex); you can avoid this warning by specifying engine='python'.\n",
            "  \"\"\"Entry point for launching an IPython kernel.\n",
            "/usr/local/lib/python3.6/dist-packages/ipykernel_launcher.py:3: ParserWarning: Falling back to the 'python' engine because the 'c' engine does not support regex separators (separators > 1 char and different from '\\s+' are interpreted as regex); you can avoid this warning by specifying engine='python'.\n",
            "  This is separate from the ipykernel package so we can avoid doing imports until\n"
          ],
          "name": "stderr"
        },
        {
          "output_type": "stream",
          "text": [
            "        ID    Gene             Variation  Class  \\\n",
            "492    492    TP53                 R248L      1   \n",
            "98      98  TGFBR2                 D404G      4   \n",
            "1251  1251  PIK3R1    I559_D560insDKRMNS      4   \n",
            "3111  3111   RAD21  Truncating Mutations      1   \n",
            "\n",
            "                                                   Text  \n",
            "492   Half of all human cancers lose p53 function by...  \n",
            "98    In many cancers, inactivating mutations in bot...  \n",
            "1251   ABSTRACT Cancer-specific mutations in the iSH...  \n",
            "3111  ASXL1 is frequently mutated in a spectrum of m...  \n",
            "        ID     Gene Variation  \\\n",
            "134    134    SAR1B     S179R   \n",
            "3739  3739  DYNC2H1    G2461V   \n",
            "4479  4479     GLB1     R482H   \n",
            "5050  5050     TSHR     F525L   \n",
            "\n",
            "                                                   Text  \n",
            "134   Cell phosphorylates were buffer both S179R for...  \n",
            "3739  ABSTRACT The retinoblastoma-predisposition gen...  \n",
            "4479  Hereditary non-polyposis colorectal cancer (HN...  \n",
            "5050  Recent results from clinical trials with the B...  \n"
          ],
          "name": "stdout"
        },
        {
          "output_type": "stream",
          "text": [
            "IOPub data rate exceeded.\n",
            "The notebook server will temporarily stop sending output\n",
            "to the client in order to avoid crashing it.\n",
            "To change this limit, set the config variable\n",
            "`--NotebookApp.iopub_data_rate_limit`.\n",
            "\n",
            "Current values:\n",
            "NotebookApp.iopub_data_rate_limit=1000000.0 (bytes/sec)\n",
            "NotebookApp.rate_limit_window=3.0 (secs)\n",
            "\n"
          ],
          "name": "stderr"
        }
      ]
    },
    {
      "metadata": {
        "id": "BZVM9anWM_ZJ",
        "colab_type": "code",
        "colab": {}
      },
      "cell_type": "code",
      "source": [
        "def evaluate_features(X, y, clf = 'None'):\n",
        "\tclf = LogisticRegression()\n",
        "\tprobas = cross_val_predict(clf, X, y, cv = StratifiedKFold(random_state=8), n_jobs = -1, method = 'predict_proba', verbose = -2)\n",
        "\tpred_indices = np.argmax(probas, axis=1)\n",
        "\tclass_ = np.unique(y)\n",
        "\tpreds = class_[pred_indices]\n",
        "\tprint('Log loss: {}'.format(log_loss(y, probas)))\n",
        "\tprint('Accuracy: {}'.format(accuracy_score(y, preds)))\n",
        "\tskplt.plot_confusion_matrix(y, preds)"
      ],
      "execution_count": 0,
      "outputs": []
    },
    {
      "metadata": {
        "id": "HyB_PP1ONC5d",
        "colab_type": "code",
        "colab": {}
      },
      "cell_type": "code",
      "source": [
        "#Bag of word\n",
        "count_vt = CountVectorizer(tokenizer=word_tokenize, stop_words='english')\n",
        "bag_of_words = count_vt.fit_transform(train['Text'])"
      ],
      "execution_count": 0,
      "outputs": []
    },
    {
      "metadata": {
        "id": "qSBUajDTc1Kn",
        "colab_type": "code",
        "colab": {}
      },
      "cell_type": "code",
      "source": [
        "def svd(md):\n",
        "  svd = TruncatedSVD(n_components=25, n_iter=25, random_state=12)\n",
        "  truncatedSVD = svd.fit_transform(md)\n",
        "  return truncatedSVD"
      ],
      "execution_count": 0,
      "outputs": []
    },
    {
      "metadata": {
        "id": "iFclo_eodHVU",
        "colab_type": "code",
        "colab": {
          "base_uri": "https://localhost:8080/",
          "height": 591
        },
        "outputId": "40cefb21-4440-4476-bc9a-2dfc6ded1096"
      },
      "cell_type": "code",
      "source": [
        "evaluate_features(svd(bag_of_words), train['Class'].values.ravel())"
      ],
      "execution_count": 14,
      "outputs": [
        {
          "output_type": "stream",
          "text": [
            "/usr/local/lib/python3.6/dist-packages/sklearn/linear_model/base.py:340: RuntimeWarning: overflow encountered in exp\n",
            "  np.exp(prob, prob)\n",
            "/usr/local/lib/python3.6/dist-packages/sklearn/linear_model/base.py:340: RuntimeWarning: overflow encountered in exp\n",
            "  np.exp(prob, prob)\n",
            "[Parallel(n_jobs=-1)]: Done   3 out of   3 | elapsed:    0.9s remaining:    0.0s\n",
            "[Parallel(n_jobs=-1)]: Done   3 out of   3 | elapsed:    0.9s finished\n",
            "/usr/local/lib/python3.6/dist-packages/sklearn/utils/deprecation.py:77: DeprecationWarning: Function plot_confusion_matrix is deprecated; This will be removed in v0.4.0. Please use scikitplot.metrics.plot_confusion_matrix instead.\n",
            "  warnings.warn(msg, category=DeprecationWarning)\n"
          ],
          "name": "stderr"
        },
        {
          "output_type": "stream",
          "text": [
            "Log loss: 1.7849945623305377\n",
            "Accuracy: 0.48993963782696176\n"
          ],
          "name": "stdout"
        },
        {
          "output_type": "display_data",
          "data": {
            "image/png": "[encoded data removed]",
            "text/plain": [
              "<matplotlib.figure.Figure at 0x7fcf4054de10>"
            ]
          },
          "metadata": {
            "tags": []
          }
        }
      ]
    },
    {
      "metadata": {
        "id": "4wnlPDVyINKg",
        "colab_type": "code",
        "colab": {
          "base_uri": "https://localhost:8080/",
          "height": 979
        },
        "outputId": "c1d3637d-62fa-4eae-99cf-3accf6909704"
      },
      "cell_type": "code",
      "source": [
        "#tf-idf\n",
        "count_vt_idf = TfidfVectorizer(analyzer='word',tokenizer=word_tokenize, stop_words='english')\n",
        "tf_idf = count_vt_idf.fit_transform(train['Text'])\n",
        "print(tf_idf)"
      ],
      "execution_count": 15,
      "outputs": [
        {
          "output_type": "stream",
          "text": [
            "  (0, 64929)\t0.06780270622094159\n",
            "  (0, 46614)\t0.02753738536686247\n",
            "  (0, 52520)\t0.008090634776842662\n",
            "  (0, 77485)\t0.002884512365340072\n",
            "  (0, 96127)\t0.0029760618870554143\n",
            "  (0, 149643)\t0.0015349106345480899\n",
            "  (0, 138977)\t0.0281265228101446\n",
            "  (0, 71491)\t0.00611542921676636\n",
            "  (0, 67491)\t0.0031141081053701752\n",
            "  (0, 147644)\t0.02339360864050331\n",
            "  (0, 79746)\t0.003248918442688937\n",
            "  (0, 107630)\t0.006078150906485568\n",
            "  (0, 52359)\t0.023222807367561105\n",
            "  (0, 231)\t0.21122872506424933\n",
            "  (0, 80984)\t0.048625207251884545\n",
            "  (0, 232)\t0.21062864345895316\n",
            "  (0, 1753)\t0.38186800264924686\n",
            "  (0, 114693)\t0.016288014246447723\n",
            "  (0, 85320)\t0.013686641086852292\n",
            "  (0, 57850)\t0.013832185520881826\n",
            "  (0, 60593)\t0.09712386697748501\n",
            "  (0, 99997)\t0.10874605821051479\n",
            "  (0, 128417)\t0.04551785728429502\n",
            "  (0, 99393)\t0.010134051900861044\n",
            "  (0, 85750)\t0.009795955942587168\n",
            "  :\t:\n",
            "  (993, 102605)\t0.007444314950421812\n",
            "  (993, 82698)\t0.007444314950421812\n",
            "  (993, 83824)\t0.007444314950421812\n",
            "  (993, 37446)\t0.007256530733031153\n",
            "  (993, 64951)\t0.007444314950421812\n",
            "  (993, 78568)\t0.014888629900843624\n",
            "  (993, 80470)\t0.007444314950421812\n",
            "  (993, 32076)\t0.007444314950421812\n",
            "  (993, 77702)\t0.05079571513121807\n",
            "  (993, 128871)\t0.007444314950421812\n",
            "  (993, 80493)\t0.007444314950421812\n",
            "  (993, 140719)\t0.007444314950421812\n",
            "  (993, 139644)\t0.007444314950421812\n",
            "  (993, 139637)\t0.007444314950421812\n",
            "  (993, 52177)\t0.007444314950421812\n",
            "  (993, 147829)\t0.007444314950421812\n",
            "  (993, 32078)\t0.007444314950421812\n",
            "  (993, 60664)\t0.007444314950421812\n",
            "  (993, 41857)\t0.007444314950421812\n",
            "  (993, 60665)\t0.007444314950421812\n",
            "  (993, 37239)\t0.007444314950421812\n",
            "  (993, 128261)\t0.007444314950421812\n",
            "  (993, 124992)\t0.007444314950421812\n",
            "  (993, 125084)\t0.007444314950421812\n",
            "  (993, 113018)\t0.007444314950421812\n"
          ],
          "name": "stdout"
        }
      ]
    },
    {
      "metadata": {
        "id": "LaLm2cIATKCZ",
        "colab_type": "code",
        "colab": {}
      },
      "cell_type": "code",
      "source": [
        ""
      ],
      "execution_count": 0,
      "outputs": []
    },
    {
      "metadata": {
        "id": "XmSXXh0ccmeh",
        "colab_type": "code",
        "colab": {
          "base_uri": "https://localhost:8080/",
          "height": 515
        },
        "outputId": "bf26ffd7-80f6-43c0-fc04-5f4551108c7e"
      },
      "cell_type": "code",
      "source": [
        "evaluate_features(svd(tf_idf), train['Class'].values.ravel())"
      ],
      "execution_count": 16,
      "outputs": [
        {
          "output_type": "stream",
          "text": [
            "[Parallel(n_jobs=-1)]: Done   3 out of   3 | elapsed:    0.1s remaining:    0.0s\n",
            "[Parallel(n_jobs=-1)]: Done   3 out of   3 | elapsed:    0.1s finished\n",
            "/usr/local/lib/python3.6/dist-packages/sklearn/utils/deprecation.py:77: DeprecationWarning: Function plot_confusion_matrix is deprecated; This will be removed in v0.4.0. Please use scikitplot.metrics.plot_confusion_matrix instead.\n",
            "  warnings.warn(msg, category=DeprecationWarning)\n"
          ],
          "name": "stderr"
        },
        {
          "output_type": "stream",
          "text": [
            "Log loss: 1.4909573483641962\n",
            "Accuracy: 0.4778672032193159\n"
          ],
          "name": "stdout"
        },
        {
          "output_type": "display_data",
          "data": {
            "image/png": "[encoded data removed]",
            "text/plain": [
              "<matplotlib.figure.Figure at 0x7fcf3e1a9fd0>"
            ]
          },
          "metadata": {
            "tags": []
          }
        }
      ]
    },
    {
      "metadata": {
        "id": "l1-BxBs0dz1C",
        "colab_type": "code",
        "colab": {}
      },
      "cell_type": "code",
      "source": [
        "#word2vect\n",
        "class MySentences(object):\n",
        "\n",
        "    def __init__(self, *arrays):\n",
        "        self.arrays = arrays\n",
        " \n",
        "    def __iter__(self):\n",
        "        for array in self.arrays:\n",
        "            for document in array:\n",
        "                for sent in sent_tokenize(document):\n",
        "                    yield word_tokenize(sent)\n",
        "def Word2Vec(sentences, location):\n",
        "\tif os.path.exists(location):\n",
        "\t\tmodule = models.Word2Vec.load(location)\n",
        "\t\treturn module\n",
        "\tmodule = models.Word2Vec(sentences, workers=4)\n",
        "\tmodule.save(location)\n",
        "\treturn module"
      ],
      "execution_count": 0,
      "outputs": []
    },
    {
      "metadata": {
        "id": "-tkKYa9CPk18",
        "colab_type": "code",
        "colab": {
          "base_uri": "https://localhost:8080/",
          "height": 395
        },
        "outputId": "04b14a11-306a-4d3b-fd44-c212b96dd989"
      },
      "cell_type": "code",
      "source": [
        "w2vmodel = Word2Vec(MySentences(train['Text'].values), 'w2vmodel')\n",
        "print(w2vmodel['phenocopies'])"
      ],
      "execution_count": 18,
      "outputs": [
        {
          "output_type": "stream",
          "text": [
            "[ 0.09950161 -0.22011673 -0.01776122 -0.12178364 -0.34641653  0.22454178\n",
            "  0.23758711  0.17833732  0.09256488 -0.109923   -0.15627055 -0.01770206\n",
            " -0.000973    0.21698543 -0.25988588 -0.0208     -0.2503294  -0.29948035\n",
            "  0.2522615  -0.24689749  0.03263025  0.19241431  0.0747193   0.10037229\n",
            " -0.09149618  0.05318522  0.08793849 -0.18255442 -0.17040437 -0.01518595\n",
            "  0.02605196  0.07559789  0.4401741   0.15211773 -0.04375574  0.56806266\n",
            "  0.15292805  0.1078466  -0.19493276 -0.1379175   0.0913616   0.17681132\n",
            "  0.30609423  0.00441437  0.3348038  -0.0425485   0.08666041  0.4276939\n",
            " -0.0663648   0.0209977  -0.12595272 -0.32487786 -0.09264965  0.08237007\n",
            " -0.08090966  0.18621232  0.18956965  0.05480384  0.13853645 -0.02237622\n",
            "  0.2684112  -0.17501216 -0.01138995  0.10147061 -0.00644022  0.13513514\n",
            " -0.14873782 -0.21807957 -0.25001407 -0.06335054  0.01438912  0.12460423\n",
            "  0.02952055  0.16558847 -0.03425865  0.26266032  0.23512523 -0.29590422\n",
            "  0.03023936  0.01639018 -0.07223921  0.04404847  0.11029751  0.07682256\n",
            "  0.22933148  0.02854615  0.4453296  -0.05877151  0.01370301  0.045616\n",
            "  0.09758709 -0.4088514  -0.01217041 -0.03480607  0.152576    0.06466704\n",
            "  0.08701031 -0.08080045 -0.12918007  0.28916955]\n"
          ],
          "name": "stdout"
        },
        {
          "output_type": "stream",
          "text": [
            "/usr/local/lib/python3.6/dist-packages/ipykernel_launcher.py:2: DeprecationWarning: Call to deprecated `__getitem__` (Method will be removed in 4.0.0, use self.wv.__getitem__() instead).\n",
            "  \n"
          ],
          "name": "stderr"
        }
      ]
    },
    {
      "metadata": {
        "id": "mvCHM72taB1C",
        "colab_type": "code",
        "colab": {}
      },
      "cell_type": "code",
      "source": [
        "word2vec = models.Word2Vec.load('w2vmodel')\n",
        "def Mytokenizer(X):\n",
        "\ttransform_array = []\n",
        "\tfor document in X:\n",
        "\t\ttransform_doc = []\n",
        "\t\tfor sent in sent_tokenize(document):\n",
        "\t\t\ttransform_doc += word_tokenize(sent)\n",
        "\t\ttransform_array.append(np.array(transform_doc))\n",
        "\treturn transform_array\n",
        "\n",
        "\n",
        "class EmbeddingVectoizer(object):\n",
        "\tdef __init__(self, word2vec):\n",
        "\t\tself.word2vec = word2vec\n",
        "\t\tself.dim = len(word2vec.wv.syn0[0])\n",
        "\tdef fit(self, X, y=None):\n",
        "\t\treturn self\n",
        "\tdef transform(self, X):\n",
        "\t\tx = Mytokenizer(X)\n",
        "\t\treturn np.array([np.mean([self.word2vec.wv[w] for w in words if w in word2vec.wv] or [np.zeros(self.dim)], axis=0) for words in x])\n",
        "\tdef fit_transform(self, X, y=None):\n",
        "\t\treturn self.transform(X)"
      ],
      "execution_count": 0,
      "outputs": []
    },
    {
      "metadata": {
        "id": "E1FDy_4xZcGb",
        "colab_type": "code",
        "colab": {
          "base_uri": "https://localhost:8080/",
          "height": 55
        },
        "outputId": "df9f1de2-7e07-4928-e5ef-10185dd25581"
      },
      "cell_type": "code",
      "source": [
        "em_vt = EmbeddingVectoizer(w2vmodel)\n",
        "mean_em = em_vt.fit_transform(train['Text'].values)"
      ],
      "execution_count": 20,
      "outputs": [
        {
          "output_type": "stream",
          "text": [
            "/usr/local/lib/python3.6/dist-packages/ipykernel_launcher.py:15: DeprecationWarning: Call to deprecated `syn0` (Attribute will be removed in 4.0.0, use self.wv.vectors instead).\n",
            "  from ipykernel import kernelapp as app\n"
          ],
          "name": "stderr"
        }
      ]
    },
    {
      "metadata": {
        "id": "ivQxpZxnL13_",
        "colab_type": "code",
        "colab": {
          "base_uri": "https://localhost:8080/",
          "height": 515
        },
        "outputId": "6865a0d3-0989-423e-9c41-6615ca9572f3"
      },
      "cell_type": "code",
      "source": [
        "evaluate_features(svd(mean_em), train['Class'].values.ravel())"
      ],
      "execution_count": 21,
      "outputs": [
        {
          "output_type": "stream",
          "text": [
            "[Parallel(n_jobs=-1)]: Done   3 out of   3 | elapsed:    0.1s remaining:    0.0s\n",
            "[Parallel(n_jobs=-1)]: Done   3 out of   3 | elapsed:    0.1s finished\n",
            "/usr/local/lib/python3.6/dist-packages/sklearn/utils/deprecation.py:77: DeprecationWarning: Function plot_confusion_matrix is deprecated; This will be removed in v0.4.0. Please use scikitplot.metrics.plot_confusion_matrix instead.\n",
            "  warnings.warn(msg, category=DeprecationWarning)\n"
          ],
          "name": "stderr"
        },
        {
          "output_type": "stream",
          "text": [
            "Log loss: 1.3690400888103451\n",
            "Accuracy: 0.5110663983903421\n"
          ],
          "name": "stdout"
        },
        {
          "output_type": "display_data",
          "data": {
            "image/png": "[encoded data removed]",
            "text/plain": [
              "<matplotlib.figure.Figure at 0x7fcf36d2da90>"
            ]
          },
          "metadata": {
            "tags": []
          }
        }
      ]
    },
    {
      "metadata": {
        "id": "_QEn1M0bPY50",
        "colab_type": "code",
        "colab": {}
      },
      "cell_type": "code",
      "source": [
        "#Tokenizer\n",
        "num_word = 2000\n",
        "tokenizer = Tokenizer(num_words=num_word)\n",
        "tokenizer.fit_on_texts(train['Text'].values)"
      ],
      "execution_count": 0,
      "outputs": []
    },
    {
      "metadata": {
        "id": "R8KJjopkUpou",
        "colab_type": "code",
        "colab": {
          "base_uri": "https://localhost:8080/",
          "height": 168
        },
        "outputId": "98c073d0-d001-4517-85ad-ffd709813601"
      },
      "cell_type": "code",
      "source": [
        "#Pad to sequences\n",
        "X = tokenizer.texts_to_sequences(train['Text'].values)\n",
        "X = pad_sequences(X, maxlen=num_word)\n",
        "print(X)\n",
        "print(X.shape)"
      ],
      "execution_count": 23,
      "outputs": [
        {
          "output_type": "stream",
          "text": [
            "[[  23    6 1195 ...  923    4  101]\n",
            " [ 102    6  949 ...  131    2   38]\n",
            " [ 222   25    6 ...   70 1950    3]\n",
            " ...\n",
            " [   8  878  120 ...   12  709  229]\n",
            " [1311    3   22 ...   11    4    1]\n",
            " [  85   24  107 ...    4   50  947]]\n",
            "(994, 2000)\n"
          ],
          "name": "stdout"
        }
      ]
    },
    {
      "metadata": {
        "id": "5VxLANWqaZKo",
        "colab_type": "code",
        "colab": {
          "base_uri": "https://localhost:8080/",
          "height": 281
        },
        "outputId": "68eeff14-1ccb-4fdf-9131-ff04ebe8b047"
      },
      "cell_type": "code",
      "source": [
        "#Build simple LSTM\n",
        "batch_size = 32\n",
        "epoch = 8\n",
        "em_dim = 128\n",
        "LSTM_out = 196\n",
        "ckpt_callback = ModelCheckpoint('keras_model', monitor='val_loss', verbose=1, save_best_only=True, mode='auto')\n",
        "model = Sequential()\n",
        "model.add(Embedding(num_word, em_dim, input_length=X.shape[1]))\n",
        "model.add(LSTM(LSTM_out, recurrent_dropout=0.2, dropout=0.2))\n",
        "model.add(Dense(9, activation='softmax'))\n",
        "model.compile(optimizer='adam', loss='categorical_crossentropy', metrics=['accuracy'])\n",
        "print(model.summary())"
      ],
      "execution_count": 24,
      "outputs": [
        {
          "output_type": "stream",
          "text": [
            "_________________________________________________________________\n",
            "Layer (type)                 Output Shape              Param #   \n",
            "=================================================================\n",
            "embedding_1 (Embedding)      (None, 2000, 128)         256000    \n",
            "_________________________________________________________________\n",
            "lstm_1 (LSTM)                (None, 196)               254800    \n",
            "_________________________________________________________________\n",
            "dense_1 (Dense)              (None, 9)                 1773      \n",
            "=================================================================\n",
            "Total params: 512,573\n",
            "Trainable params: 512,573\n",
            "Non-trainable params: 0\n",
            "_________________________________________________________________\n",
            "None\n"
          ],
          "name": "stdout"
        }
      ]
    },
    {
      "metadata": {
        "id": "3NrHrZXL0Bxr",
        "colab_type": "code",
        "colab": {
          "base_uri": "https://localhost:8080/",
          "height": 1224
        },
        "outputId": "e24f751a-ddd6-421c-e169-02c0a0bf364d"
      },
      "cell_type": "code",
      "source": [
        "Y = pd.get_dummies(train['Class'].values)\n",
        "print(Y)"
      ],
      "execution_count": 25,
      "outputs": [
        {
          "output_type": "stream",
          "text": [
            "     1  2  3  4  5  6  7  8  9\n",
            "0    0  0  0  1  0  0  0  0  0\n",
            "1    0  0  0  0  1  0  0  0  0\n",
            "2    0  0  0  0  0  1  0  0  0\n",
            "3    0  1  0  0  0  0  0  0  0\n",
            "4    0  0  0  1  0  0  0  0  0\n",
            "5    1  0  0  0  0  0  0  0  0\n",
            "6    0  0  0  0  0  0  1  0  0\n",
            "7    0  0  0  1  0  0  0  0  0\n",
            "8    1  0  0  0  0  0  0  0  0\n",
            "9    0  0  0  0  0  1  0  0  0\n",
            "10   0  0  0  1  0  0  0  0  0\n",
            "11   1  0  0  0  0  0  0  0  0\n",
            "12   0  0  0  0  0  0  1  0  0\n",
            "13   0  0  0  0  0  0  1  0  0\n",
            "14   0  0  0  1  0  0  0  0  0\n",
            "15   0  0  0  0  0  0  1  0  0\n",
            "16   1  0  0  0  0  0  0  0  0\n",
            "17   0  0  0  0  0  0  1  0  0\n",
            "18   0  0  0  0  1  0  0  0  0\n",
            "19   0  0  0  1  0  0  0  0  0\n",
            "20   0  0  0  0  0  0  1  0  0\n",
            "21   0  0  0  0  1  0  0  0  0\n",
            "22   0  1  0  0  0  0  0  0  0\n",
            "23   0  0  0  0  0  1  0  0  0\n",
            "24   0  1  0  0  0  0  0  0  0\n",
            "25   0  1  0  0  0  0  0  0  0\n",
            "26   0  0  0  1  0  0  0  0  0\n",
            "27   0  0  0  0  0  1  0  0  0\n",
            "28   0  0  0  0  0  0  1  0  0\n",
            "29   0  0  0  1  0  0  0  0  0\n",
            "..  .. .. .. .. .. .. .. .. ..\n",
            "964  0  1  0  0  0  0  0  0  0\n",
            "965  0  0  0  0  0  0  1  0  0\n",
            "966  0  0  0  1  0  0  0  0  0\n",
            "967  0  0  0  0  0  0  1  0  0\n",
            "968  0  0  0  1  0  0  0  0  0\n",
            "969  1  0  0  0  0  0  0  0  0\n",
            "970  0  0  0  0  0  0  1  0  0\n",
            "971  0  0  0  0  0  0  1  0  0\n",
            "972  0  0  0  0  0  0  1  0  0\n",
            "973  0  0  0  1  0  0  0  0  0\n",
            "974  0  0  0  0  0  0  0  0  1\n",
            "975  0  0  0  0  0  1  0  0  0\n",
            "976  0  1  0  0  0  0  0  0  0\n",
            "977  1  0  0  0  0  0  0  0  0\n",
            "978  0  0  0  1  0  0  0  0  0\n",
            "979  1  0  0  0  0  0  0  0  0\n",
            "980  1  0  0  0  0  0  0  0  0\n",
            "981  0  0  0  1  0  0  0  0  0\n",
            "982  1  0  0  0  0  0  0  0  0\n",
            "983  0  0  0  1  0  0  0  0  0\n",
            "984  0  0  0  1  0  0  0  0  0\n",
            "985  0  0  0  0  0  0  1  0  0\n",
            "986  1  0  0  0  0  0  0  0  0\n",
            "987  0  0  0  1  0  0  0  0  0\n",
            "988  0  0  0  1  0  0  0  0  0\n",
            "989  0  0  0  1  0  0  0  0  0\n",
            "990  1  0  0  0  0  0  0  0  0\n",
            "991  0  0  0  0  0  0  1  0  0\n",
            "992  0  0  1  0  0  0  0  0  0\n",
            "993  1  0  0  0  0  0  0  0  0\n",
            "\n",
            "[994 rows x 9 columns]\n"
          ],
          "name": "stdout"
        }
      ]
    },
    {
      "metadata": {
        "id": "mQB8la5s1wTq",
        "colab_type": "code",
        "colab": {
          "base_uri": "https://localhost:8080/",
          "height": 92
        },
        "outputId": "4e0a5404-01e9-4cc7-cb93-79323bbe77e0"
      },
      "cell_type": "code",
      "source": [
        "x_train, x_test, y_train, y_test = train_test_split(X, Y, test_size=0.2, random_state=42, stratify=Y)\n",
        "y_test = np.array(y_test)\n",
        "print(x_train.shape)\n",
        "print(x_test.shape)\n",
        "print(y_train.shape)\n",
        "print(y_test.shape)"
      ],
      "execution_count": 36,
      "outputs": [
        {
          "output_type": "stream",
          "text": [
            "(795, 2000)\n",
            "(199, 2000)\n",
            "(795, 9)\n",
            "(199, 9)\n"
          ],
          "name": "stdout"
        }
      ]
    },
    {
      "metadata": {
        "id": "8SH2TJVn3Zy2",
        "colab_type": "code",
        "colab": {
          "base_uri": "https://localhost:8080/",
          "height": 658
        },
        "outputId": "7a28a3da-6326-483e-afce-a1d7b36d44f0"
      },
      "cell_type": "code",
      "source": [
        "model.fit(x_train, y_train, batch_size=batch_size, epochs=epoch, validation_split=0.2, callbacks=[ckpt_callback])"
      ],
      "execution_count": 27,
      "outputs": [
        {
          "output_type": "stream",
          "text": [
            "Train on 636 samples, validate on 159 samples\n",
            "Epoch 1/8\n",
            "636/636 [==============================] - 149s 234ms/step - loss: 2.0294 - acc: 0.2893 - val_loss: 1.8115 - val_acc: 0.2893\n",
            "\n",
            "Epoch 00001: val_loss improved from inf to 1.81148, saving model to keras_model\n",
            "Epoch 2/8\n",
            "636/636 [==============================] - 146s 230ms/step - loss: 1.7926 - acc: 0.3129 - val_loss: 1.7799 - val_acc: 0.3711\n",
            "\n",
            "Epoch 00002: val_loss improved from 1.81148 to 1.77989, saving model to keras_model\n",
            "Epoch 3/8\n",
            "636/636 [==============================] - 150s 235ms/step - loss: 1.7235 - acc: 0.3711 - val_loss: 1.7160 - val_acc: 0.3585\n",
            "\n",
            "Epoch 00003: val_loss improved from 1.77989 to 1.71601, saving model to keras_model\n",
            "Epoch 4/8\n",
            "636/636 [==============================] - 150s 235ms/step - loss: 1.5715 - acc: 0.4717 - val_loss: 1.5970 - val_acc: 0.4340\n",
            "\n",
            "Epoch 00004: val_loss improved from 1.71601 to 1.59700, saving model to keras_model\n",
            "Epoch 5/8\n",
            "636/636 [==============================] - 153s 240ms/step - loss: 1.2721 - acc: 0.5865 - val_loss: 1.5762 - val_acc: 0.4591\n",
            "\n",
            "Epoch 00005: val_loss improved from 1.59700 to 1.57624, saving model to keras_model\n",
            "Epoch 6/8\n",
            "636/636 [==============================] - 150s 236ms/step - loss: 1.0835 - acc: 0.6352 - val_loss: 1.6345 - val_acc: 0.4528\n",
            "\n",
            "Epoch 00006: val_loss did not improve from 1.57624\n",
            "Epoch 7/8\n",
            "636/636 [==============================] - 152s 239ms/step - loss: 0.8928 - acc: 0.7107 - val_loss: 1.5953 - val_acc: 0.4906\n",
            "\n",
            "Epoch 00007: val_loss did not improve from 1.57624\n",
            "Epoch 8/8\n",
            "636/636 [==============================] - 153s 240ms/step - loss: 0.6957 - acc: 0.7940 - val_loss: 1.8095 - val_acc: 0.4591\n",
            "\n",
            "Epoch 00008: val_loss did not improve from 1.57624\n"
          ],
          "name": "stdout"
        },
        {
          "output_type": "execute_result",
          "data": {
            "text/plain": [
              "<keras.callbacks.History at 0x7fcf37b92a90>"
            ]
          },
          "metadata": {
            "tags": []
          },
          "execution_count": 27
        }
      ]
    },
    {
      "metadata": {
        "id": "Aj_lN0137j_x",
        "colab_type": "code",
        "colab": {
          "base_uri": "https://localhost:8080/",
          "height": 394
        },
        "outputId": "8f8468ed-cff6-4407-e7aa-e0c71f3d4ec6"
      },
      "cell_type": "code",
      "source": [
        "model = load_model('keras_model')\n",
        "print(model.predict(x_test))\n",
        "print(np.array(y_test))\n",
        "print(np.argmax(np.array(y_test), axis=1))\n"
      ],
      "execution_count": 37,
      "outputs": [
        {
          "output_type": "stream",
          "text": [
            "[[0.17103723 0.17514233 0.03082744 ... 0.33322498 0.01150295 0.01273485]\n",
            " [0.30144653 0.10112524 0.03893147 ... 0.0621412  0.01212405 0.01451219]\n",
            " [0.01422569 0.13744599 0.00545746 ... 0.7914884  0.00128702 0.00178508]\n",
            " ...\n",
            " [0.33718345 0.09387216 0.02996031 ... 0.12478397 0.00975694 0.01118811]\n",
            " [0.04183035 0.29844823 0.05521154 ... 0.3275271  0.02768631 0.03206917]\n",
            " [0.19490081 0.13047327 0.04239003 ... 0.08768903 0.01184047 0.014299  ]]\n",
            "[[1 0 0 ... 0 0 0]\n",
            " [0 0 0 ... 0 0 0]\n",
            " [0 0 0 ... 1 0 0]\n",
            " ...\n",
            " [0 0 0 ... 0 0 0]\n",
            " [0 0 0 ... 1 0 0]\n",
            " [0 0 0 ... 1 0 0]]\n",
            "[0 4 6 3 1 6 0 6 5 6 0 6 6 3 0 3 1 5 6 0 2 3 0 3 0 3 5 6 3 6 4 4 4 3 6 6 3\n",
            " 1 1 0 4 1 3 6 1 3 0 3 0 1 1 1 1 5 0 6 4 4 6 6 0 3 6 0 3 0 8 5 3 5 6 6 6 6\n",
            " 6 1 3 1 0 3 5 6 1 0 6 6 5 3 0 4 3 6 0 0 6 5 2 7 4 0 1 3 0 2 0 0 6 3 1 6 6\n",
            " 6 6 3 0 0 0 1 3 6 6 0 6 6 4 5 1 3 3 1 1 6 6 3 3 6 1 6 3 6 5 2 3 3 6 3 6 3\n",
            " 6 3 6 1 1 4 6 6 6 6 3 2 3 6 1 3 6 6 1 0 4 6 6 3 0 0 6 0 1 6 6 2 3 0 6 3 3\n",
            " 0 4 6 3 0 5 6 3 6 1 3 5 6 6]\n"
          ],
          "name": "stdout"
        }
      ]
    },
    {
      "metadata": {
        "id": "xVfIeZk_7p88",
        "colab_type": "code",
        "colab": {}
      },
      "cell_type": "code",
      "source": [
        "def evaluate_features_LSTM(x_test, y_test):\n",
        "\tprobas = model.predict(x_test)\n",
        "\tpred_indices = np.argmax(probas, axis=1)\n",
        "\tclass_ = np.array(range(1,10))\n",
        "\tpreds = class_[pred_indices]\n",
        "\ty_pre_max = np.argmax(y_test, axis=1)\n",
        "\tprint('Log loss: {}'.format(log_loss(y_pre_max, probas)))\n",
        "\tprint('Accuracy: {}'.format(accuracy_score(y_pre_max, preds)))\n",
        "\tskplt.plot_confusion_matrix(y_pre_max, preds)\n"
      ],
      "execution_count": 0,
      "outputs": []
    },
    {
      "metadata": {
        "id": "PlQfcCS_9eC8",
        "colab_type": "code",
        "colab": {
          "base_uri": "https://localhost:8080/",
          "height": 477
        },
        "outputId": "c67bc969-7005-44b4-ff66-8113ec8df80a"
      },
      "cell_type": "code",
      "source": [
        "evaluate_features_LSTM(x_test, y_test)"
      ],
      "execution_count": 39,
      "outputs": [
        {
          "output_type": "stream",
          "text": [
            "Log loss: 1.5096030982220592\n",
            "Accuracy: 0.02512562814070352\n"
          ],
          "name": "stdout"
        },
        {
          "output_type": "stream",
          "text": [
            "/usr/local/lib/python3.6/dist-packages/sklearn/utils/deprecation.py:77: DeprecationWarning: Function plot_confusion_matrix is deprecated; This will be removed in v0.4.0. Please use scikitplot.metrics.plot_confusion_matrix instead.\n",
            "  warnings.warn(msg, category=DeprecationWarning)\n"
          ],
          "name": "stderr"
        },
        {
          "output_type": "display_data",
          "data": {
            "image/png": "[encoded data removed]",
            "text/plain": [
              "<matplotlib.figure.Figure at 0x7fcf34b40278>"
            ]
          },
          "metadata": {
            "tags": []
          }
        }
      ]
    }
  ]
}